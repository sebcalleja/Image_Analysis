{
 "cells": [
  {
   "cell_type": "code",
   "execution_count": 1,
   "metadata": {},
   "outputs": [],
   "source": [
    "import pandas as pd\n",
    "from PIL import Image\n",
    "import cv2\n",
    "import sys\n",
    "import numpy as np\n",
    "import os\n",
    "import matplotlib.pyplot as plt"
   ]
  },
  {
   "cell_type": "code",
   "execution_count": 2,
   "metadata": {},
   "outputs": [],
   "source": [
    "# # load image\n",
    "# img_path = 'Lettuce_Roots_2022/2022_03_16/2309.jpg'\n",
    "\n",
    "# plot = img_path.split('/')[-1][-9:-4]\n",
    "# date = img_path.split('/')[-2]\n",
    "# print(date)\n",
    "# img = cv2.imread(img_path)\n",
    "\n",
    "# # Cropping an image\n",
    "# cropped_image = img[200:1450, 700:2200] #[pixels in the vertical direction, pixels in the horizontal direction]\n",
    "\n",
    "# # Set out directory and create if not already in working directory\n",
    "# out_dir = os.path.join('Cropped_Images', str(plot))\n",
    "\n",
    "# if not os.path.isdir(out_dir):\n",
    "#     os.makedirs(out_dir)\n",
    "\n",
    "# # Save the cropped image\n",
    "# cv2.imwrite(f\"{out_dir}/{plot}_Cropped.jpg\", cropped_image)"
   ]
  },
  {
   "cell_type": "code",
   "execution_count": 3,
   "metadata": {},
   "outputs": [],
   "source": [
    "def crop_img(img_path):\n",
    "    plot = img_path.split('/')[-1][-9:-4]\n",
    "\n",
    "    img = cv2.imread(img_path)\n",
    "\n",
    "    # Cropping an image\n",
    "    cropped_image = img[200:1450, 700:2200] #[pixels in the vertical direction, pixels in the horizontal direction]\n",
    "\n",
    "    # Set out directory and create if not already in working directory\n",
    "    out_dir = os.path.join('Cropped_Images', str(plot))\n",
    "\n",
    "    if not os.path.isdir(out_dir):\n",
    "        os.makedirs(out_dir)\n",
    "\n",
    "    # Save the cropped image\n",
    "    cv2.imwrite(f\"{out_dir}/{plot}_Cropped.jpg\", cropped_image)\n",
    "    print('Image Cropped and Saved')\n"
   ]
  },
  {
   "cell_type": "markdown",
   "metadata": {},
   "source": [
    "## Removing Background from Cropped Images"
   ]
  },
  {
   "cell_type": "code",
   "execution_count": 54,
   "metadata": {},
   "outputs": [],
   "source": [
    "# img_path = 'Cropped_Images/2022_03_16/0311_Cropped.jpg'\n",
    "\n",
    "# plot = img_path.split('/')[-1][-9:-4]\n",
    "\n",
    "# date = img_path.split('/')[-2]\n",
    "\n",
    "# img = cv2.imread(img_path)\n"
   ]
  },
  {
   "cell_type": "code",
   "execution_count": 33,
   "metadata": {},
   "outputs": [],
   "source": [
    "# # Convert Image into HSV space\n",
    "# img_hsv = cv2.cvtColor(img, cv2.COLOR_RGB2HSV)\n",
    "\n",
    "# # extract hue channel from the image\n",
    "# hue = img_hsv[:,:,0]\n",
    "\n",
    "# # plotting hue channel\n",
    "# plt.title('hue channel')\n",
    "# plt.imshow(hue)\n",
    "# plt.show()\n",
    "\n",
    "# # calculate a histogram with 180 bins, one for each color\n",
    "# hist, _ = np.histogram(hue, bins=180, normed=True)\n",
    "# plt.title(\"hue histogram\")\n",
    "# plt.plot(hist)\n",
    "# plt.show()"
   ]
  },
  {
   "cell_type": "code",
   "execution_count": 53,
   "metadata": {},
   "outputs": [],
   "source": [
    "# lower = np.array([0, 52, 72], dtype = \"uint16\") ## Pink Tag Values are approximately (217, 149, 172; R, G, B)\n",
    "# upper = np.array([100, 255, 255], dtype = \"uint16\")\n",
    "# mask = cv2.inRange(img, lower, upper)\n",
    "\n",
    "# Mask = cv2.bitwise_not(mask) ## Inverting the mask\n",
    "\n",
    "# cv2.imwrite('mask0.png', Mask)"
   ]
  },
  {
   "cell_type": "code",
   "execution_count": 120,
   "metadata": {},
   "outputs": [],
   "source": [
    "def create_mask(img_path, img):\n",
    "    # Establish Plot Name\n",
    "    plot = img_path.split('/')[-1].split('.')[-2]\n",
    "\n",
    "    date = img_path.split('/')[-2]\n",
    "    \n",
    "    # # Load Image\n",
    "    # img = cv2.imread(img_path)\n",
    "\n",
    "    # Set Boundaries for mask\n",
    "    lower = np.array([0, 52, 72], dtype = \"uint16\") ## Pink Tag Values are approximately (217, 149, 172; R, G, B)\n",
    "    upper = np.array([95, 255, 255], dtype = \"uint16\")\n",
    "    mask = cv2.inRange(img, lower, upper)\n",
    "\n",
    "    ## Inverting the mask\n",
    "    Mask = cv2.bitwise_not(mask)\n",
    "\n",
    "    # Set out directory and create if not already in working directory\n",
    "    out_dir = os.path.join('Mask_Images', str(date))\n",
    "\n",
    "    if not os.path.isdir(out_dir):\n",
    "        os.makedirs(out_dir)\n",
    "\n",
    "    # Save the mask\n",
    "    cv2.imwrite(f'{out_dir}/{plot}_mask.png', Mask)\n",
    "    return Mask"
   ]
  },
  {
   "cell_type": "code",
   "execution_count": 121,
   "metadata": {},
   "outputs": [],
   "source": [
    "def remove_background(img_path, img, Mask):\n",
    "    # Establish Plot Name\n",
    "    plot = img_path.split('/')[-1].split('.')[-2]\n",
    "    # Establish Date\n",
    "    date = img_path.split('/')[-2]\n",
    "\n",
    "    _, Mask = cv2.threshold(Mask, thresh=180, maxval=255, type=cv2.THRESH_BINARY)\n",
    "\n",
    "    # copy where we'll assign the new values\n",
    "    no_back = np.copy(img)\n",
    "\n",
    "    # boolean indexing and assignment based on mask\n",
    "    no_back[(Mask==255).all(-1)] = [0,0,0]\n",
    "\n",
    "    # Set out directory and create if not already in working directory\n",
    "    out_dir = os.path.join('Clean_Images', str(date))\n",
    "\n",
    "    if not os.path.isdir(out_dir):\n",
    "        os.makedirs(out_dir)\n",
    "\n",
    "    # Save the mask\n",
    "    cv2.imwrite(f'{out_dir}/{plot}_clean.png', no_back)\n",
    "\n",
    "    return no_back"
   ]
  },
  {
   "cell_type": "code",
   "execution_count": 106,
   "metadata": {},
   "outputs": [],
   "source": [
    "# mask = cv2.imread('mask0.png')\n",
    "\n",
    "# _, mask = cv2.threshold(mask, thresh=180, maxval=255, type=cv2.THRESH_BINARY)\n",
    "# # copy where we'll assign the new values\n",
    "# no_back = np.copy(img)\n",
    "# # boolean indexing and assignment based on mask\n",
    "# no_back[(mask==255).all(-1)] = [0,0,0]\n",
    "\n",
    "# fig, ax = plt.subplots(1,2,figsize=(12,6))\n",
    "# ax[0].imshow(cv2.cvtColor(img, cv2.COLOR_BGR2RGB))\n",
    "# ax[1].imshow(cv2.cvtColor(no_back, cv2.COLOR_BGR2RGB))"
   ]
  },
  {
   "cell_type": "code",
   "execution_count": 127,
   "metadata": {},
   "outputs": [],
   "source": [
    "## This will be the main\n",
    "\n",
    "img_path = 'Cropped_Images/2022_03_16/0311_Cropped.jpg'\n",
    "\n",
    "plot = img_path.split('/')[-1].split('.')[-2]\n",
    "\n",
    "date = img_path.split('/')[-2]\n",
    "\n",
    "img = cv2.imread(img_path)\n",
    "\n",
    "create_mask(img_path, img)\n",
    "\n",
    "Mask = cv2.imread(f'Mask_Images/{date}/{plot}_mask.png')\n",
    "\n",
    "no_back = remove_background(img_path, img, Mask)"
   ]
  },
  {
   "cell_type": "code",
   "execution_count": null,
   "metadata": {},
   "outputs": [],
   "source": []
  }
 ],
 "metadata": {
  "interpreter": {
   "hash": "916dbcbb3f70747c44a77c7bcd40155683ae19c65e1c03b4aa3499c5328201f1"
  },
  "kernelspec": {
   "display_name": "Python 3.8.10 64-bit",
   "language": "python",
   "name": "python3"
  },
  "language_info": {
   "codemirror_mode": {
    "name": "ipython",
    "version": 3
   },
   "file_extension": ".py",
   "mimetype": "text/x-python",
   "name": "python",
   "nbconvert_exporter": "python",
   "pygments_lexer": "ipython3",
   "version": "3.8.10"
  },
  "orig_nbformat": 4
 },
 "nbformat": 4,
 "nbformat_minor": 2
}
